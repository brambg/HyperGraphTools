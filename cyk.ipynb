{
 "cells": [
  {
   "cell_type": "code",
   "execution_count": 1,
   "metadata": {},
   "outputs": [
    {
     "data": {
      "text/plain": [
       "2-element Array{Any,1}:\n",
       " (1, 2, 3)\n",
       " (2, 4, 5)"
      ]
     },
     "execution_count": 1,
     "metadata": {},
     "output_type": "execute_result"
    }
   ],
   "source": [
    "using HyperGraphTools.CYK\n",
    "\n",
    "g = Grammar()\n",
    "\n",
    "r1 = Rule(\"S\", (\"A\",\"B\")) # S -> A B\n",
    "add_rule!(g,r1)\n",
    "\n",
    "r2 = Rule(\"A\", \"a\") # A -> a\n",
    "add_rule!(g,r2)\n",
    "\n",
    "r3 = Rule(\"B\", \"b\") # B -> b\n",
    "add_rule!(g,r3)\n",
    "\n",
    "r4 = Rule(\"A\", (\"AA\",\"C\")) # A -> AA C\n",
    "add_rule!(g,r4)\n",
    "\n",
    "r5 = Rule(\"C\", \"c\") # C -> c\n",
    "add_rule!(g,r5)\n",
    "\n",
    "r6 = Rule(\"AA\", \"ä\") # C -> c\n",
    "add_rule!(g,r6)\n",
    "\n",
    "it = CYK.index_triples(g)"
   ]
  },
  {
   "cell_type": "code",
   "execution_count": 2,
   "metadata": {},
   "outputs": [
    {
     "data": {
      "text/plain": [
       "true"
      ]
     },
     "execution_count": 2,
     "metadata": {},
     "output_type": "execute_result"
    }
   ],
   "source": [
    "validate([\"ä\", \"c\", \"b\"],g)"
   ]
  },
  {
   "cell_type": "code",
   "execution_count": 4,
   "metadata": {},
   "outputs": [
    {
     "name": "stderr",
     "output_type": "stream",
     "text": [
      "ERROR: No rule found for terminal x\n",
      "ERROR: No rule found for terminal y\n",
      "ERROR: No rule found for terminal z\n"
     ]
    },
    {
     "data": {
      "text/plain": [
       "false"
      ]
     },
     "execution_count": 4,
     "metadata": {},
     "output_type": "execute_result"
    }
   ],
   "source": [
    "validate([\"x\", \"y\", \"z\"],g)"
   ]
  },
  {
   "cell_type": "code",
   "execution_count": 6,
   "metadata": {},
   "outputs": [
    {
     "data": {
      "text/plain": [
       "true"
      ]
     },
     "execution_count": 6,
     "metadata": {},
     "output_type": "execute_result"
    }
   ],
   "source": [
    "validate([\"a\", \"b\"],g)"
   ]
  },
  {
   "cell_type": "code",
   "execution_count": 8,
   "metadata": {},
   "outputs": [
    {
     "data": {
      "text/plain": [
       "1-element Array{Int64,1}:\n",
       " 12"
      ]
     },
     "execution_count": 8,
     "metadata": {},
     "output_type": "execute_result"
    }
   ],
   "source": [
    "g = Grammar()\n",
    "r1 = Rule(\"S\",(\"NP\",\"VP\"))  # 1\n",
    "r2a = Rule(\"NP\",(\"DET\",\"N\"))# 2\n",
    "r2b = Rule(\"NP\",\"she\")      # 3\n",
    "r3a = Rule(\"VP\",(\"VP\",\"PP\"))# 4\n",
    "r3b = Rule(\"VP\",(\"V\",\"NP\")) # 5\n",
    "r3c = Rule(\"VP\",\"eats\")     # 6\n",
    "r4 = Rule(\"DET\",\"a\")        # 7\n",
    "r5a = Rule(\"N\",\"fish\")      # 8\n",
    "r5b = Rule(\"N\",\"fork\")      # 9\n",
    "r6 = Rule(\"PP\",(\"P\",\"NP\"))  # 10\n",
    "r7 = Rule(\"V\",\"eats\")       # 11\n",
    "r8 = Rule(\"P\",\"with\")       # 12\n",
    "add_rule!(g,r1)\n",
    "add_rule!(g,r2a)\n",
    "add_rule!(g,r2b)\n",
    "add_rule!(g,r3a)\n",
    "add_rule!(g,r3b)\n",
    "add_rule!(g,r3c)\n",
    "add_rule!(g,r4)\n",
    "add_rule!(g,r5a)\n",
    "add_rule!(g,r5b)\n",
    "add_rule!(g,r6)\n",
    "add_rule!(g,r7)\n",
    "add_rule!(g,r8)"
   ]
  },
  {
   "cell_type": "code",
   "execution_count": 10,
   "metadata": {},
   "outputs": [
    {
     "data": {
      "text/plain": [
       "8-element Array{String,1}:\n",
       " \"S\"  \n",
       " \"NP\" \n",
       " \"VP\" \n",
       " \"DET\"\n",
       " \"N\"  \n",
       " \"PP\" \n",
       " \"V\"  \n",
       " \"P\"  "
      ]
     },
     "execution_count": 10,
     "metadata": {},
     "output_type": "execute_result"
    }
   ],
   "source": [
    "g.nonTerminals"
   ]
  },
  {
   "cell_type": "code",
   "execution_count": 12,
   "metadata": {},
   "outputs": [
    {
     "data": {
      "text/plain": [
       "Dict{Int64,Array{Int64,1}} with 8 entries:\n",
       "  7 => [11]\n",
       "  4 => [7]\n",
       "  2 => [2, 3]\n",
       "  3 => [4, 5, 6]\n",
       "  5 => [8, 9]\n",
       "  8 => [12]\n",
       "  6 => [10]\n",
       "  1 => [1]"
      ]
     },
     "execution_count": 12,
     "metadata": {},
     "output_type": "execute_result"
    }
   ],
   "source": [
    "g.ruleIndex"
   ]
  },
  {
   "cell_type": "code",
   "execution_count": 14,
   "metadata": {},
   "outputs": [
    {
     "data": {
      "text/plain": [
       "5-element Array{Any,1}:\n",
       " (1, 2, 3)\n",
       " (2, 4, 5)\n",
       " (3, 3, 6)\n",
       " (3, 7, 2)\n",
       " (6, 8, 2)"
      ]
     },
     "execution_count": 14,
     "metadata": {},
     "output_type": "execute_result"
    }
   ],
   "source": [
    "CYK.index_triples(g)"
   ]
  },
  {
   "cell_type": "code",
   "execution_count": 16,
   "metadata": {},
   "outputs": [
    {
     "data": {
      "text/plain": [
       "true"
      ]
     },
     "execution_count": 16,
     "metadata": {},
     "output_type": "execute_result"
    }
   ],
   "source": [
    "validate([\"she\", \"eats\", \"a\", \"fish\", \"with\", \"a\", \"fork\"],g)"
   ]
  },
  {
   "cell_type": "code",
   "execution_count": 18,
   "metadata": {},
   "outputs": [
    {
     "data": {
      "text/plain": [
       "true"
      ]
     },
     "execution_count": 18,
     "metadata": {},
     "output_type": "execute_result"
    }
   ],
   "source": [
    "validate([\"she\", \"eats\", \"a\", \"fork\", \"with\", \"a\", \"fish\"],g)"
   ]
  },
  {
   "cell_type": "code",
   "execution_count": 20,
   "metadata": {},
   "outputs": [
    {
     "data": {
      "text/plain": [
       "false"
      ]
     },
     "execution_count": 20,
     "metadata": {},
     "output_type": "execute_result"
    }
   ],
   "source": [
    "validate([\"fish\", \"eats\", \"a\", \"she\", \"with\", \"a\", \"fork\"],g)"
   ]
  },
  {
   "cell_type": "code",
   "execution_count": null,
   "metadata": {
    "collapsed": true
   },
   "outputs": [],
   "source": []
  }
 ],
 "metadata": {
  "kernelspec": {
   "display_name": "Julia 1.1.0",
   "language": "julia",
   "name": "julia-1.1"
  },
  "language_info": {
   "file_extension": ".jl",
   "mimetype": "application/julia",
   "name": "julia",
   "version": "1.1.0"
  }
 },
 "nbformat": 4,
 "nbformat_minor": 2
}
