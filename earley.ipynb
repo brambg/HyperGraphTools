{
 "cells": [
  {
   "cell_type": "code",
   "execution_count": 1,
   "metadata": {},
   "outputs": [
    {
     "name": "stdout",
     "output_type": "stream",
     "text": [
      "table = HyperGraphTools.Earley.Column[Column(1, \"\", Any[]), Column(2, \"book\", Any[]), Column(3, \"the\", Any[]), Column(4, \"flight\", Any[]), Column(5, \"through\", Any[]), Column(6, \"houston\", Any[])]\n",
      "start_rule = Rule(\"S\", Production[Production([\"NP\", \"VP\"]), Production([\"VP\"])])\n"
     ]
    }
   ],
   "source": [
    "using HyperGraphTools.Earley\n",
    "\n",
    "g = Grammar()\n",
    "\n",
    "N = Rule(\"N\", [Production(\"time\"), Production(\"flight\"), Production(\"banana\"), Production(\"flies\"), Production(\"boy\"), Production(\"telescope\")])\n",
    "D = Rule(\"D\", [Production(\"the\"), Production(\"a\"), Production(\"an\")])\n",
    "V = Rule(\"V\", [Production(\"book\"), Production(\"eat\"), Production(\"sleep\"), Production(\"saw\")])\n",
    "P = Rule(\"P\", [Production(\"with\"), Production(\"in\"), Production(\"on\"), Production(\"at\"), Production(\"through\")])\n",
    "\n",
    "PP = Rule(\"PP\")\n",
    "NP = Rule(\"NP\", [Production([\"D\", \"N\"]), Production(\"john\"), Production(\"houston\")])\n",
    "push!(NP,Production([\"NP\", \"PP\"]))\n",
    "push!(PP,Production([\"P\", \"NP\"]))\n",
    "\n",
    "VP = Rule(\"VP\", Production([\"V\", \"NP\"]))\n",
    "push!(VP,Production([\"VP\", \"PP\"]))\n",
    "S = Rule(\"S\", [Production([\"NP\", \"VP\"]), Production([\"VP\"])])\n",
    "\n",
    "push!(g,S)\n",
    "push!(g,N)\n",
    "push!(g,D)\n",
    "push!(g,V)\n",
    "push!(g,P)\n",
    "push!(g,PP)\n",
    "push!(g,NP)\n",
    "push!(g,VP)\n",
    "\n",
    "tokens = [\"book\", \"the\", \"flight\", \"through\", \"houston\"]\n",
    "state = earley_parse(tokens,g)"
   ]
  },
  {
   "cell_type": "code",
   "execution_count": 1,
   "metadata": {},
   "outputs": [
    {
     "name": "stdout",
     "output_type": "stream",
     "text": [
      "table = HyperGraphTools.Earley.Column[Column(1, \"\", Any[]), Column(2, \"book\", Any[]), Column(3, \"the\", Any[]), Column(4, \"flight\", Any[]), Column(5, \"through\", Any[]), Column(6, \"houston\", Any[])]\n",
      "start_rule = Rule(\"S\", Production[Production([\"NP\", \"VP\"]), Production([\"VP\"])])\n"
     ]
    }
   ],
   "source": [
    "using HyperGraphTools.Earley\n",
    "\n",
    "g = Grammar()\n",
    "\n",
    "N = Rule(\"N\", [Production(\"time\"), Production(\"flight\"), Production(\"banana\"), Production(\"flies\"), Production(\"boy\"), Production(\"telescope\")])\n",
    "D = Rule(\"D\", [Production(\"the\"), Production(\"a\"), Production(\"an\")])\n",
    "V = Rule(\"V\", [Production(\"book\"), Production(\"eat\"), Production(\"sleep\"), Production(\"saw\")])\n",
    "P = Rule(\"P\", [Production(\"with\"), Production(\"in\"), Production(\"on\"), Production(\"at\"), Production(\"through\")])\n",
    "\n",
    "PP = Rule(\"PP\")\n",
    "NP = Rule(\"NP\", [Production([\"D\", \"N\"]), Production(\"john\"), Production(\"houston\")])\n",
    "push!(NP,Production([\"NP\", \"PP\"]))\n",
    "push!(PP,Production([\"P\", \"NP\"]))\n",
    "\n",
    "VP = Rule(\"VP\", Production([\"V\", \"NP\"]))\n",
    "push!(VP,Production([\"VP\", \"PP\"]))\n",
    "S = Rule(\"S\", [Production([\"NP\", \"VP\"]), Production([\"VP\"])])\n",
    "\n",
    "push!(g,S)\n",
    "push!(g,N)\n",
    "push!(g,D)\n",
    "push!(g,V)\n",
    "push!(g,P)\n",
    "push!(g,PP)\n",
    "push!(g,NP)\n",
    "push!(g,VP)\n",
    "\n",
    "tokens = [\"book\", \"the\", \"flight\", \"through\", \"houston\"]\n",
    "state = earley_parse(tokens,g)"
   ]
  },
  {
   "cell_type": "code",
   "execution_count": 2,
   "metadata": {},
   "outputs": [
    {
     "name": "stdout",
     "output_type": "stream",
     "text": [
      "state = nothing\n"
     ]
    }
   ],
   "source": [
    "@show(state)"
   ]
  },
  {
   "cell_type": "code",
   "execution_count": null,
   "metadata": {
    "collapsed": true
   },
   "outputs": [],
   "source": []
  }
 ],
 "metadata": {
  "kernelspec": {
   "display_name": "Julia 1.1.0",
   "language": "julia",
   "name": "julia-1.1"
  },
  "language_info": {
   "file_extension": ".jl",
   "mimetype": "application/julia",
   "name": "julia",
   "version": "1.1.0"
  }
 },
 "nbformat": 4,
 "nbformat_minor": 2
}
