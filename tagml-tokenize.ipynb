{
 "cells": [
  {
   "cell_type": "code",
   "execution_count": 1,
   "metadata": {},
   "outputs": [
    {
     "data": {
      "text/plain": [
       "15-element Array{Token,1}:\n",
       " Token(\"[root>\", OPENTAG::TokenType = 0)     \n",
       " Token(\"[a>\", OPENTAG::TokenType = 0)        \n",
       " Token(\"[name>\", OPENTAG::TokenType = 0)     \n",
       " Token(\"Cookie Monster\", TEXT::TokenType = 2)\n",
       " Token(\"<name]\", CLOSETAG::TokenType = 1)    \n",
       " Token(\" \", TEXT::TokenType = 2)             \n",
       " Token(\"[b>\", OPENTAG::TokenType = 0)        \n",
       " Token(\"loves\", TEXT::TokenType = 2)         \n",
       " Token(\"<a]\", CLOSETAG::TokenType = 1)       \n",
       " Token(\" \", TEXT::TokenType = 2)             \n",
       " Token(\"[name>\", OPENTAG::TokenType = 0)     \n",
       " Token(\"Stroopwafels\", TEXT::TokenType = 2)  \n",
       " Token(\"<name]\", CLOSETAG::TokenType = 1)    \n",
       " Token(\"<b]\", CLOSETAG::TokenType = 1)       \n",
       " Token(\"<root]\", CLOSETAG::TokenType = 1)    "
      ]
     },
     "execution_count": 1,
     "metadata": {},
     "output_type": "execute_result"
    }
   ],
   "source": [
    "using HyperGraphTools.SimpleTAGMLTokenizer\n",
    "\n",
    "tagml = \"[root>[a>[name>Cookie Monster<name] [b>loves<a] [name>Stroopwafels<name]<b]<root]\"\n",
    "tokens = tokenize(tagml)"
   ]
  },
  {
   "cell_type": "code",
   "execution_count": 2,
   "metadata": {},
   "outputs": [
    {
     "data": {
      "text/plain": [
       "5-element Array{Token,1}:\n",
       " Token(\"pre\", ERROR::TokenType = 3)     \n",
       " Token(\"[x>\", OPENTAG::TokenType = 0)   \n",
       " Token(\"Just text\", TEXT::TokenType = 2)\n",
       " Token(\"<x]\", CLOSETAG::TokenType = 1)  \n",
       " Token(\"post\", ERROR::TokenType = 3)    "
      ]
     },
     "execution_count": 2,
     "metadata": {},
     "output_type": "execute_result"
    }
   ],
   "source": [
    "tagml = \"pre[x>Just text<x]post\"\n",
    "tokens = tokenize(tagml)"
   ]
  },
  {
   "cell_type": "code",
   "execution_count": null,
   "metadata": {
    "collapsed": true
   },
   "outputs": [],
   "source": []
  }
 ],
 "metadata": {
  "kernelspec": {
   "display_name": "Julia 1.1.0",
   "language": "julia",
   "name": "julia-1.1"
  },
  "language_info": {
   "file_extension": ".jl",
   "mimetype": "application/julia",
   "name": "julia",
   "version": "1.1.0"
  }
 },
 "nbformat": 4,
 "nbformat_minor": 2
}
